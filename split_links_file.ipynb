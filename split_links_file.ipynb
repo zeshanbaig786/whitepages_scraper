{
 "cells": [
  {
   "cell_type": "code",
   "execution_count": 3,
   "metadata": {},
   "outputs": [
    {
     "name": "stdout",
     "output_type": "stream",
     "text": [
      "1th file\n",
      "2th file\n",
      "3th file\n",
      "4th file\n",
      "5th file\n",
      "6th file\n",
      "7th file\n"
     ]
    }
   ],
   "source": [
    "linksFile = open(\"links.txt\", \"r\")\n",
    "i = 0\n",
    "j = 0\n",
    "try:\n",
    "    while i <= 6:\n",
    "        j = 0\n",
    "        i += 1\n",
    "        ithFile = open(f\"links{i}.txt\", \"w\")\n",
    "        print(f'{i}th file')\n",
    "        while j <= 100000:\n",
    "            l = linksFile.readline()\n",
    "            ithFile.write(l)\n",
    "            j += 1\n",
    "            ithFile.flush()\n",
    "except Exception as e:\n",
    "    print(e)"
   ]
  }
 ],
 "metadata": {
  "kernelspec": {
   "display_name": "Python 3.10.7 64-bit",
   "language": "python",
   "name": "python3"
  },
  "language_info": {
   "codemirror_mode": {
    "name": "ipython",
    "version": 3
   },
   "file_extension": ".py",
   "mimetype": "text/x-python",
   "name": "python",
   "nbconvert_exporter": "python",
   "pygments_lexer": "ipython3",
   "version": "3.10.7"
  },
  "orig_nbformat": 4,
  "vscode": {
   "interpreter": {
    "hash": "8b2f19c093d63b7767d8952b9e391763c464bb21e64bf0dec0607ecdbb959fe1"
   }
  }
 },
 "nbformat": 4,
 "nbformat_minor": 2
}
