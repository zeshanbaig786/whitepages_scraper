{
 "cells": [
  {
   "cell_type": "code",
   "execution_count": 23,
   "metadata": {},
   "outputs": [],
   "source": [
    "import html5lib\n",
    "from matplotlib.pyplot import axes, axis\n",
    "import requests\n",
    "from bs4 import BeautifulSoup\n",
    "import os\n",
    "import string\n",
    "import html\n",
    "import time\n",
    "import pandas as pd\n",
    "import re\n",
    "import json\n",
    "from selenium import webdriver\n",
    "from selenium.webdriver.common.by import By\n",
    "from selenium.webdriver.common.keys import Keys\n",
    "\n",
    "from selenium.webdriver.support import expected_conditions as EC\n",
    "from selenium.webdriver.support.ui import WebDriverWait\n",
    "import chromedriver_autoinstaller\n",
    "from selenium.webdriver.chrome.options import Options"
   ]
  },
  {
   "cell_type": "code",
   "execution_count": 24,
   "metadata": {},
   "outputs": [],
   "source": [
    "chromedriver_autoinstaller.install()  # Check if the current version of chromedriver exists\n",
    "                                      # and if it doesn't exist, download it automatically,\n",
    "                                      # then add chromedriver to path\n",
    "\n",
    "#chrome_options=opts\n",
    "driver = webdriver.Chrome()"
   ]
  },
  {
   "cell_type": "code",
   "execution_count": 25,
   "metadata": {},
   "outputs": [],
   "source": [
    "links = pd.read_csv(\"profile-links.txt\", header=None)\n",
    "urls = links[0]\n"
   ]
  },
  {
   "cell_type": "code",
   "execution_count": 26,
   "metadata": {},
   "outputs": [],
   "source": [
    "driver.delete_all_cookies()  # Deletes all the cookies\n",
    "\n",
    "# base_page_url = 'https://www.whitepages.com/'\n",
    "# driver.get(base_page_url)\n",
    "f = open(\"profile-data.txt\", \"w\")\n",
    "#for url in urls:\n",
    "url = urls[0]\n",
    "#print(url)\n",
    "driver.delete_all_cookies()  # Deletes all the cookie\n",
    "driver.get(url)\n",
    "# checkBox = driver.find_element(By.ID,'tos-checkbox')\n",
    "# if checkBox:\n",
    "#     checkBox.click()\n",
    "#     btnContToResults = driver.find_element(By.XPATH,'/html/body/div[3]/div[2]/div/div[2]/button')\n",
    "#     if btnContToResults:\n",
    "#         btnContToResults.send_keys(Keys.RETURN)\n",
    "\n"
   ]
  },
  {
   "cell_type": "code",
   "execution_count": 32,
   "metadata": {},
   "outputs": [
    {
     "ename": "JSONDecodeError",
     "evalue": "Expecting value: line 1 column 62 (char 61)",
     "output_type": "error",
     "traceback": [
      "\u001b[1;31m---------------------------------------------------------------------------\u001b[0m",
      "\u001b[1;31mJSONDecodeError\u001b[0m                           Traceback (most recent call last)",
      "Cell \u001b[1;32mIn [32], line 30\u001b[0m\n\u001b[0;32m     28\u001b[0m \u001b[39m#print(jsonMy)\u001b[39;00m\n\u001b[0;32m     29\u001b[0m \u001b[39mimport\u001b[39;00m \u001b[39mjson\u001b[39;00m\n\u001b[1;32m---> 30\u001b[0m json\u001b[39m.\u001b[39mloads(jsonMy)\n\u001b[0;32m     31\u001b[0m \u001b[39m# landlines = driver.find_elements(By.XPATH, '//*[@id=\"landline\"]/div')\u001b[39;00m\n\u001b[0;32m     32\u001b[0m \u001b[39m# for number in landlines:\u001b[39;00m\n\u001b[0;32m     33\u001b[0m \u001b[39m#     print(number.find_element(By.XPATH, \"//a\"))\u001b[39;00m\n\u001b[0;32m     34\u001b[0m \u001b[39m#\u001b[39;00m\n\u001b[0;32m     35\u001b[0m \u001b[39m# break\u001b[39;00m\n\u001b[0;32m     36\u001b[0m f\u001b[39m.\u001b[39mclose()\n",
      "File \u001b[1;32mc:\\Users\\zesha\\AppData\\Local\\Programs\\Python\\Python310\\lib\\json\\__init__.py:346\u001b[0m, in \u001b[0;36mloads\u001b[1;34m(s, cls, object_hook, parse_float, parse_int, parse_constant, object_pairs_hook, **kw)\u001b[0m\n\u001b[0;32m    341\u001b[0m     s \u001b[39m=\u001b[39m s\u001b[39m.\u001b[39mdecode(detect_encoding(s), \u001b[39m'\u001b[39m\u001b[39msurrogatepass\u001b[39m\u001b[39m'\u001b[39m)\n\u001b[0;32m    343\u001b[0m \u001b[39mif\u001b[39;00m (\u001b[39mcls\u001b[39m \u001b[39mis\u001b[39;00m \u001b[39mNone\u001b[39;00m \u001b[39mand\u001b[39;00m object_hook \u001b[39mis\u001b[39;00m \u001b[39mNone\u001b[39;00m \u001b[39mand\u001b[39;00m\n\u001b[0;32m    344\u001b[0m         parse_int \u001b[39mis\u001b[39;00m \u001b[39mNone\u001b[39;00m \u001b[39mand\u001b[39;00m parse_float \u001b[39mis\u001b[39;00m \u001b[39mNone\u001b[39;00m \u001b[39mand\u001b[39;00m\n\u001b[0;32m    345\u001b[0m         parse_constant \u001b[39mis\u001b[39;00m \u001b[39mNone\u001b[39;00m \u001b[39mand\u001b[39;00m object_pairs_hook \u001b[39mis\u001b[39;00m \u001b[39mNone\u001b[39;00m \u001b[39mand\u001b[39;00m \u001b[39mnot\u001b[39;00m kw):\n\u001b[1;32m--> 346\u001b[0m     \u001b[39mreturn\u001b[39;00m _default_decoder\u001b[39m.\u001b[39;49mdecode(s)\n\u001b[0;32m    347\u001b[0m \u001b[39mif\u001b[39;00m \u001b[39mcls\u001b[39m \u001b[39mis\u001b[39;00m \u001b[39mNone\u001b[39;00m:\n\u001b[0;32m    348\u001b[0m     \u001b[39mcls\u001b[39m \u001b[39m=\u001b[39m JSONDecoder\n",
      "File \u001b[1;32mc:\\Users\\zesha\\AppData\\Local\\Programs\\Python\\Python310\\lib\\json\\decoder.py:337\u001b[0m, in \u001b[0;36mJSONDecoder.decode\u001b[1;34m(self, s, _w)\u001b[0m\n\u001b[0;32m    332\u001b[0m \u001b[39mdef\u001b[39;00m \u001b[39mdecode\u001b[39m(\u001b[39mself\u001b[39m, s, _w\u001b[39m=\u001b[39mWHITESPACE\u001b[39m.\u001b[39mmatch):\n\u001b[0;32m    333\u001b[0m     \u001b[39m\"\"\"Return the Python representation of ``s`` (a ``str`` instance\u001b[39;00m\n\u001b[0;32m    334\u001b[0m \u001b[39m    containing a JSON document).\u001b[39;00m\n\u001b[0;32m    335\u001b[0m \n\u001b[0;32m    336\u001b[0m \u001b[39m    \"\"\"\u001b[39;00m\n\u001b[1;32m--> 337\u001b[0m     obj, end \u001b[39m=\u001b[39m \u001b[39mself\u001b[39;49m\u001b[39m.\u001b[39;49mraw_decode(s, idx\u001b[39m=\u001b[39;49m_w(s, \u001b[39m0\u001b[39;49m)\u001b[39m.\u001b[39;49mend())\n\u001b[0;32m    338\u001b[0m     end \u001b[39m=\u001b[39m _w(s, end)\u001b[39m.\u001b[39mend()\n\u001b[0;32m    339\u001b[0m     \u001b[39mif\u001b[39;00m end \u001b[39m!=\u001b[39m \u001b[39mlen\u001b[39m(s):\n",
      "File \u001b[1;32mc:\\Users\\zesha\\AppData\\Local\\Programs\\Python\\Python310\\lib\\json\\decoder.py:355\u001b[0m, in \u001b[0;36mJSONDecoder.raw_decode\u001b[1;34m(self, s, idx)\u001b[0m\n\u001b[0;32m    353\u001b[0m     obj, end \u001b[39m=\u001b[39m \u001b[39mself\u001b[39m\u001b[39m.\u001b[39mscan_once(s, idx)\n\u001b[0;32m    354\u001b[0m \u001b[39mexcept\u001b[39;00m \u001b[39mStopIteration\u001b[39;00m \u001b[39mas\u001b[39;00m err:\n\u001b[1;32m--> 355\u001b[0m     \u001b[39mraise\u001b[39;00m JSONDecodeError(\u001b[39m\"\u001b[39m\u001b[39mExpecting value\u001b[39m\u001b[39m\"\u001b[39m, s, err\u001b[39m.\u001b[39mvalue) \u001b[39mfrom\u001b[39;00m \u001b[39mNone\u001b[39m\n\u001b[0;32m    356\u001b[0m \u001b[39mreturn\u001b[39;00m obj, end\n",
      "\u001b[1;31mJSONDecodeError\u001b[0m: Expecting value: line 1 column 62 (char 61)"
     ]
    }
   ],
   "source": [
    "splits = url.split(\"/\")\n",
    "id1 = splits[len(splits) - 1]\n",
    "if \"?\" in id1:\n",
    "    id1 = id1.split(\"?\")[0]\n",
    "# print(id1)\n",
    "ps = driver.page_source\n",
    "# driver.find_element('//*[@id=\"__nuxt\"]')\n",
    "path = \"/html/body/script[1]\"\n",
    "# path = f'//*[@id=\"{id1}\"]/div/div[1]/div[1]/div[2]/div[1]/div[1]/div/div/h1'\n",
    "# /html/body/script[1]/text()\n",
    "script = driver.find_element(By.XPATH, path)\n",
    "# for script in scriptTags:\n",
    "name1 = script.get_attribute(\"innerHTML\")\n",
    "#   name1 = name.get_attribute('innerHTML')\n",
    "# print(name1)\n",
    "startIndex = name1.index('{amplitudeEvent:\"')\n",
    "\n",
    "end = name1.index('url:\"https:\\\\u002F\\\\u002Fwww.whitepages.com', startIndex)\n",
    "endIndex = name1.index(\"]\", end)\n",
    "jsonMy = name1[startIndex:endIndex]\n",
    "# print(json)\n",
    "import re\n",
    "\n",
    "#json = re.sub(\"(\\w+):\", r'\"\\1\":', json)\n",
    "jsonMy = re.sub(\"((?=\\D)\\w+):\", r'\"\\1\":',  jsonMy)\n",
    "jsonMy = re.sub(\": ((?=\\D)\\w+)\", r':\"\\1\"',  jsonMy)\n",
    "\n",
    "#print(jsonMy)\n",
    "import json\n",
    "json.loads(jsonMy)\n",
    "# landlines = driver.find_elements(By.XPATH, '//*[@id=\"landline\"]/div')\n",
    "# for number in landlines:\n",
    "#     print(number.find_element(By.XPATH, \"//a\"))\n",
    "#\n",
    "# break\n",
    "f.close()\n"
   ]
  }
 ],
 "metadata": {
  "kernelspec": {
   "display_name": "Python 3.10.7 64-bit",
   "language": "python",
   "name": "python3"
  },
  "language_info": {
   "codemirror_mode": {
    "name": "ipython",
    "version": 3
   },
   "file_extension": ".py",
   "mimetype": "text/x-python",
   "name": "python",
   "nbconvert_exporter": "python",
   "pygments_lexer": "ipython3",
   "version": "3.10.7"
  },
  "orig_nbformat": 4,
  "vscode": {
   "interpreter": {
    "hash": "8b2f19c093d63b7767d8952b9e391763c464bb21e64bf0dec0607ecdbb959fe1"
   }
  }
 },
 "nbformat": 4,
 "nbformat_minor": 2
}
