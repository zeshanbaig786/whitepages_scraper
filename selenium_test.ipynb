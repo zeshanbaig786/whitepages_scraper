{
 "cells": [
  {
   "cell_type": "code",
   "execution_count": 1,
   "metadata": {},
   "outputs": [],
   "source": [
    "import html5lib\n",
    "from matplotlib.pyplot import axes, axis\n",
    "import requests\n",
    "from bs4 import BeautifulSoup\n",
    "import os\n",
    "import string\n",
    "import html\n",
    "import time\n",
    "import pandas as pd\n",
    "import re\n",
    "import json"
   ]
  },
  {
   "cell_type": "code",
   "execution_count": 2,
   "metadata": {},
   "outputs": [],
   "source": [
    "from selenium import webdriver\n",
    "from selenium.webdriver.common.by import By\n",
    "from selenium.webdriver.common.keys import Keys\n",
    "\n",
    "from selenium.webdriver.support import expected_conditions as EC\n",
    "from selenium.webdriver.support.ui import WebDriverWait\n",
    "import chromedriver_autoinstaller\n",
    "from selenium.webdriver.chrome.options import Options"
   ]
  },
  {
   "cell_type": "code",
   "execution_count": 3,
   "metadata": {},
   "outputs": [],
   "source": [
    "chromedriver_autoinstaller.install()  # Check if the current version of chromedriver exists\n",
    "                                      # and if it doesn't exist, download it automatically,\n",
    "                                      # then add chromedriver to path\n",
    "\n",
    "#chrome_options=opts\n",
    "driver = webdriver.Chrome()"
   ]
  },
  {
   "cell_type": "code",
   "execution_count": 4,
   "metadata": {},
   "outputs": [],
   "source": [
    "links = pd.read_csv(\"D:\\midTT\\links.txt\", header=None)\n",
    "urls = links[0]"
   ]
  },
  {
   "cell_type": "code",
   "execution_count": 9,
   "metadata": {},
   "outputs": [
    {
     "name": "stdout",
     "output_type": "stream",
     "text": [
      "https://www.whitepages.com/name/L-Hutchison-Mary/Killen-AL/PK3dKENoVyp?is_best_match=true\n",
      "https://www.whitepages.com/name/Meyer-Mary/Bessemer-AL/PL8J7vamPp9\n",
      "https://www.whitepages.com/name/K-Goodson-Mary/Cedar-Bluff-AL/PN3VbEgv13g\n",
      "https://www.whitepages.com/name/Wilkerson-Mary/Andalusia-AL/PE3EPvZXwyB\n",
      "https://www.whitepages.com/name/Rutherfor-Mary/Birmingham-AL/Pw9YAAejZO9\n",
      "https://www.whitepages.com/name/Long-Mary/Birmingham-AL/Pkypkd1bpb9\n",
      "https://www.whitepages.com/name/W-Mary/Madison-AL/PkypLD4MkyZ\n",
      "https://www.whitepages.com/name/Ahee-Mary/Gilbertown-AL/PbyPRRqZ480\n",
      "https://www.whitepages.com/name/Mccolley-L-Mary/Headland-AL/P53kzAzXXyp\n",
      "https://www.whitepages.com/name/E-Naumann-Mary/Millport-AL/Po3jK4DezM8\n",
      "https://www.whitepages.com/name/Williams-Mary/Brewton-AL/PLyZ4PJBx8Q\n",
      "https://www.whitepages.com/name/Tyree-Mary/Montgomery-AL/PwyDOLoO2g9\n",
      "https://www.whitepages.com/name/Grimmett-E-Mary/Sylacauga-AL/Pl3ldGMgV3E\n",
      "https://www.whitepages.com/name/J-Rose-Mary/Weaver-AL/Pkypkrz15b9\n",
      "https://www.whitepages.com/name/C-Celella-Mary/Anniston-AL/PvyBdJeQzo8\n"
     ]
    }
   ],
   "source": [
    "driver.delete_all_cookies() # Deletes all the cookies\n",
    "\n",
    "base_page_url = 'https://www.whitepages.com/'\n",
    "driver.get(base_page_url)\n",
    "pageSource = driver.page_source\n",
    "f = open(\"profile-links.txt\", \"w\")\n",
    "for url in urls:\n",
    "    driver.delete_all_cookies() # Deletes all the cookie\n",
    "    driver.get(url)\n",
    "    checkBox = driver.find_element(By.ID,'tos-checkbox')\n",
    "    if checkBox:\n",
    "        checkBox.click()\n",
    "        btnContToResults = driver.find_element(By.XPATH,'/html/body/div[3]/div[2]/div/div[2]/button')\n",
    "        if btnContToResults:\n",
    "            btnContToResults.send_keys(Keys.RETURN)\n",
    "    profile_links = driver.find_elements(By.XPATH,'/html/body/div[3]/div/div[2]/a')\n",
    "    for p in profile_links:\n",
    "        plink = p.get_attribute('href')\n",
    "        print(plink)\n",
    "        f.write(f'{plink}\\n')    \n",
    "    break\n",
    "f.close()"
   ]
  }
 ],
 "metadata": {
  "kernelspec": {
   "display_name": "Python 3.10.7 64-bit",
   "language": "python",
   "name": "python3"
  },
  "language_info": {
   "codemirror_mode": {
    "name": "ipython",
    "version": 3
   },
   "file_extension": ".py",
   "mimetype": "text/x-python",
   "name": "python",
   "nbconvert_exporter": "python",
   "pygments_lexer": "ipython3",
   "version": "3.10.7"
  },
  "orig_nbformat": 4,
  "vscode": {
   "interpreter": {
    "hash": "8b2f19c093d63b7767d8952b9e391763c464bb21e64bf0dec0607ecdbb959fe1"
   }
  }
 },
 "nbformat": 4,
 "nbformat_minor": 2
}
